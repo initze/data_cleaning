{
 "cells": [
  {
   "cell_type": "markdown",
   "metadata": {},
   "source": [
    "# Notebook to clean RTS output polygons\n",
    "\n",
    "## Issue\n",
    "\n",
    "* intersection with Water, bare rocks\n",
    "\n",
    "## Solution\n",
    "\n",
    "* intersect polygons with water datasets\n",
    "  * Land cover?\n",
    "    * ESRI\n",
    "    * Other?\n",
    "  * dedicated water datasets?"
   ]
  },
  {
   "cell_type": "markdown",
   "metadata": {},
   "source": [
    "## Imports"
   ]
  },
  {
   "cell_type": "code",
   "execution_count": null,
   "metadata": {},
   "outputs": [],
   "source": [
    "import geemap\n",
    "import geopandas as gpd\n",
    "from pathlib import Path\n",
    "import ee\n",
    "ee.Initialize()"
   ]
  },
  {
   "cell_type": "markdown",
   "metadata": {},
   "source": [
    "## Data Loading"
   ]
  },
  {
   "cell_type": "code",
   "execution_count": null,
   "metadata": {},
   "outputs": [],
   "source": [
    "# define file\n",
    "input_vector = Path('../data/input/SePe.gpkg')\n",
    "#input_vector = Path('../data/input/ETaymyr.gpkg')\n",
    "\n",
    "# load file to gdf\n",
    "gdf = gpd.read_file(input_vector)\n",
    "\n",
    "# apply filter\n",
    "out = filter_remove_water(gdf, threshold=0.2)\n",
    "\n",
    "# save to output\n",
    "out.to_file('../data/output/ETaymyr_filtered.gpkg')"
   ]
  },
  {
   "cell_type": "code",
   "execution_count": null,
   "metadata": {},
   "outputs": [],
   "source": [
    "def filter_remove_water(gdf, threshold=0.2):\n",
    "    \"\"\"\n",
    "    Filter a GeoDataFrame to remove features with high water coverage based on ESRI Global Land Use Land Cover data.\n",
    "\n",
    "    This function converts the input GeoDataFrame to an Earth Engine FeatureCollection,\n",
    "    uses ESRI's Global LULC 10m dataset to create a binary water mask, calculates the\n",
    "    mean water coverage for each feature, and filters out features exceeding the specified\n",
    "    water coverage threshold.\n",
    "\n",
    "    Parameters:\n",
    "    -----------\n",
    "    gdf : geopandas.GeoDataFrame\n",
    "        Input GeoDataFrame containing the features to be filtered.\n",
    "    threshold : float, optional\n",
    "        The maximum allowable proportion of water coverage for a feature to be retained.\n",
    "        Features with mean water coverage exceeding this threshold will be removed.\n",
    "        Default is 0.2 (20% water coverage).\n",
    "\n",
    "    Returns:\n",
    "    --------\n",
    "    geopandas.GeoDataFrame\n",
    "        A filtered GeoDataFrame containing only the features with water coverage\n",
    "        below or equal to the specified threshold.\n",
    "\n",
    "    Notes:\n",
    "    ------\n",
    "    - This function requires Earth Engine to be initialized.\n",
    "    - It uses the ESRI Global Land Use Land Cover 10m dataset from Earth Engine.\n",
    "    - The water mask is created by identifying pixels with a value of 1 in the LULC dataset.\n",
    "    - The function assumes a scale of 10 meters for calculations, matching the LULC dataset resolution.\n",
    "\n",
    "    Example:\n",
    "    --------\n",
    "    >>> import geopandas as gpd\n",
    "    >>> import ee\n",
    "    >>> ee.Initialize()\n",
    "    >>> gdf = gpd.read_file('path/to/your/shapefile.shp')\n",
    "    >>> filtered_gdf = filter_remove_water(gdf, threshold=0.3)\n",
    "    \"\"\"\n",
    "    \n",
    "    # convert gdf to ee FC\n",
    "    rts_ee = geemap.gdf_to_ee(gdf)\n",
    "    # load gee layer\n",
    "    esri_lulc2020 = ee.ImageCollection(\"projects/sat-io/open-datasets/landcover/ESRI_Global-LULC_10m\")\n",
    "    # filter to rts footprint\n",
    "    filtered = esri_lulc2020.filterBounds(rts_ee)\n",
    "    # get binary water mask\n",
    "    water_layer = filtered.mosaic().eq(1).unmask()\n",
    "    # reduce regions and get value\n",
    "    reduced = ee.Image.reduceRegions(water_layer, rts_ee, reducer=ee.Reducer.mean(), scale=10)\n",
    "    # convert to gdf\n",
    "    gdf_out = geemap.ee_to_gdf(reduced)\n",
    "    # filter to no water\n",
    "    gdf_filtered = gdf.loc[gdf_out.query(f'mean <= {threshold}').index]\n",
    "    \n",
    "    return gdf_filtered\n"
   ]
  }
 ],
 "metadata": {
  "kernelspec": {
   "display_name": "Python 3",
   "language": "python",
   "name": "python3"
  },
  "language_info": {
   "codemirror_mode": {
    "name": "ipython",
    "version": 3
   },
   "file_extension": ".py",
   "mimetype": "text/x-python",
   "name": "python",
   "nbconvert_exporter": "python",
   "pygments_lexer": "ipython3",
   "version": "3.11.9"
  }
 },
 "nbformat": 4,
 "nbformat_minor": 2
}
